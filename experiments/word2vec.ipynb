{
 "cells": [
  {
   "cell_type": "code",
   "execution_count": 3,
   "metadata": {
    "collapsed": true
   },
   "outputs": [],
   "source": [
    "from gensim import models\n",
    "import logging\n",
    "logging.basicConfig(\n",
    "    format='%(asctime)s : %(levelname)s : %(message)s'\n",
    "    , level=logging.INFO\n",
    ")"
   ]
  },
  {
   "cell_type": "code",
   "execution_count": 4,
   "metadata": {
    "collapsed": false
   },
   "outputs": [],
   "source": [
    "w2v = models.Word2Vec.load_word2vec_format(\n",
    "            'ruscorpora_mean_hs.model.bin'\n",
    "            , binary=True\n",
    "            , encoding='utf-8'\n",
    "        )"
   ]
  },
  {
   "cell_type": "code",
   "execution_count": 6,
   "metadata": {
    "collapsed": false
   },
   "outputs": [],
   "source": [
    "def get_most_similar(word):\n",
    "    return w2v.most_similar(word)"
   ]
  },
  {
   "cell_type": "code",
   "execution_count": 45,
   "metadata": {
    "collapsed": false
   },
   "outputs": [
    {
     "name": "stdout",
     "output_type": "stream",
     "text": [
      "ассонанс_S\n",
      "- аллитерация_S\n",
      "рифма_S\n",
      "- созвучие_S\n",
      "- ассонанс_S\n",
      "- рифмовка_S\n",
      "- аллитерация_S\n",
      "звукопись_S\n",
      "- консонанс_S\n",
      "- контрапункт_S\n",
      "- гекзаметрический_A\n",
      "- аллитерация_S\n",
      "интонационный_A\n",
      "- ритмический_A\n",
      "- стилистический_A\n",
      "- смысловой_A\n",
      "- мелодический_A\n",
      "- интонация_S\n",
      "- интонирование_S\n",
      "- ладовый_A\n",
      "- монологический_A\n",
      "- фонация_S\n",
      "- синтаксический_A\n",
      "строфика_S\n",
      "- аллитерация_S\n",
      "глагольный_A\n",
      "- грамматический_A\n",
      "- несинтаксический_A\n",
      "- строфический_A\n",
      "- аспектуальный_A\n",
      "- глагол_S\n",
      "- таутомерный_A\n",
      "- сонатный_A\n",
      "- множ_S\n",
      "- падежный_A\n",
      "- синтаксический_A\n",
      "четырехсложный_A\n",
      "- двусложный_A\n",
      "- трехсложный_A\n",
      "- клаузула_S\n",
      "- рифма_S\n",
      "- однокоренной_A\n",
      "- пятисложный_A\n",
      "- морфема_S\n",
      "- арготический_A\n",
      "- аллитерация_S\n",
      "ритмический_A\n",
      "- ритм_S\n",
      "- мелодический_A\n",
      "- плавный_A\n",
      "- интонационный_A\n",
      "- ритмичный_A\n",
      "- ритмичность_S\n",
      "- ритмика_S\n",
      "- волнообразный_A\n",
      "- чередование_S\n",
      "- мерный_A\n",
      "созвучие_S\n",
      "- звучание_S\n",
      "- мелодия_S\n",
      "- рифма_S\n",
      "- интонация_S\n",
      "- сочетание_S\n",
      "- мелодический_A\n",
      "- фразировка_S\n",
      "- звучность_S\n",
      "- звукопись_S\n",
      "- ассонанс_S\n",
      "ямбический_A\n",
      "- шестистопный_A\n",
      "- ямб_S\n",
      "- строфа_S\n",
      "- рифмованный_A\n",
      "- поэма_S\n",
      "- цезура_S\n",
      "- трохеический_A\n",
      "- терцина_S\n",
      "- гекзаметр_S\n",
      "- ахматовский_A\n"
     ]
    },
    {
     "data": {
      "text/plain": [
       "[('ассонанс_S', 0),\n",
       " ('рифма_S', 3),\n",
       " ('звукопись_S', 3),\n",
       " ('строфика_S', 0),\n",
       " ('четырехсложный_A', 8)]"
      ]
     },
     "execution_count": 45,
     "metadata": {},
     "output_type": "execute_result"
    }
   ],
   "source": [
    "def get_most_mutural_by_rank(word):\n",
    "    result = []\n",
    "    for neighbor, _ in get_most_similar(word):\n",
    "        print(neighbor)\n",
    "        #print(w2v.most_similar(neighbor))\n",
    "        for rank, nei_of_nei in enumerate(w2v.most_similar(neighbor)):\n",
    "            print('-', nei_of_nei[0])\n",
    "            if nei_of_nei[0] == word:\n",
    "                result.append((neighbor, rank))\n",
    "                break\n",
    "    return result\n",
    "\n",
    "get_most_mutural_by_rank(normalize('аллитерация'))"
   ]
  },
  {
   "cell_type": "code",
   "execution_count": 1,
   "metadata": {
    "collapsed": true
   },
   "outputs": [],
   "source": [
    "def levenshtein(s1, s2):\n",
    "    if len(s1) < len(s2):\n",
    "        return levenshtein(s2, s1)\n",
    "\n",
    "    # len(s1) >= len(s2)\n",
    "    if len(s2) == 0:\n",
    "        return len(s1)\n",
    "\n",
    "    previous_row = range(len(s2) + 1)\n",
    "    for i, c1 in enumerate(s1):\n",
    "        current_row = [i + 1]\n",
    "        for j, c2 in enumerate(s2):\n",
    "            insertions = previous_row[j + 1] + 1\n",
    "            deletions = current_row[j] + 1\n",
    "            substitutions = previous_row[j] + (c1 != c2)\n",
    "            current_row.append(min(insertions, deletions, substitutions))\n",
    "        previous_row = current_row\n",
    "\n",
    "    return previous_row[-1]"
   ]
  },
  {
   "cell_type": "code",
   "execution_count": 11,
   "metadata": {
    "collapsed": false
   },
   "outputs": [
    {
     "data": {
      "text/plain": [
       "[('шапка_S', 1),\n",
       " ('картуз_S', 1),\n",
       " ('канотье_S', 1),\n",
       " ('кепка_S', 1),\n",
       " ('треуголка_S', 1),\n",
       " ('шляпка_S', -1),\n",
       " ('фуражка_S', 1),\n",
       " ('пальто_S', 1),\n",
       " ('картузик_S', 1),\n",
       " ('плащ_S', 1)]"
      ]
     },
     "execution_count": 11,
     "metadata": {},
     "output_type": "execute_result"
    }
   ],
   "source": [
    "def get_most_similar_filtered(word):\n",
    "    result = []\n",
    "    for neighbor, _ in get_most_similar(word):\n",
    "        result.append((neighbor, 1 if levenshtein(word, neighbor) > 2 else -1))\n",
    "    return result\n",
    "\n",
    "get_most_similar_filtered(normalize('Шляпа'))"
   ]
  },
  {
   "cell_type": "code",
   "execution_count": 9,
   "metadata": {
    "collapsed": false
   },
   "outputs": [
    {
     "data": {
      "text/plain": [
       "'шляпа_S'"
      ]
     },
     "execution_count": 9,
     "metadata": {},
     "output_type": "execute_result"
    }
   ],
   "source": [
    "def normalize(word):\n",
    "    return word.lower() + '_S'\n",
    "\n",
    "normalize('Шляпа')"
   ]
  },
  {
   "cell_type": "code",
   "execution_count": 20,
   "metadata": {
    "collapsed": false
   },
   "outputs": [
    {
     "data": {
      "text/plain": [
       "'w_o_r_d'"
      ]
     },
     "execution_count": 20,
     "metadata": {},
     "output_type": "execute_result"
    }
   ],
   "source": [
    "def delete_tag(word):\n",
    "    return word[ : len(word) - word[::-1].find('_') - 1 ]\n",
    "\n",
    "delete_tag('w_o_r_d_tag')"
   ]
  },
  {
   "cell_type": "code",
   "execution_count": null,
   "metadata": {
    "collapsed": true
   },
   "outputs": [],
   "source": []
  }
 ],
 "metadata": {
  "kernelspec": {
   "display_name": "Python 3",
   "language": "python",
   "name": "python3"
  },
  "language_info": {
   "codemirror_mode": {
    "name": "ipython",
    "version": 3
   },
   "file_extension": ".py",
   "mimetype": "text/x-python",
   "name": "python",
   "nbconvert_exporter": "python",
   "pygments_lexer": "ipython3",
   "version": "3.5.0"
  }
 },
 "nbformat": 4,
 "nbformat_minor": 0
}
